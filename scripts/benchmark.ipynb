{
 "cells": [
  {
   "cell_type": "code",
   "execution_count": 1,
   "metadata": {},
   "outputs": [],
   "source": [
    "from sklearn.cluster import KMeans\n",
    "import numpy as np"
   ]
  },
  {
   "cell_type": "code",
   "execution_count": 2,
   "metadata": {
    "scrolled": true
   },
   "outputs": [],
   "source": [
    "\n",
    "%%capture cap\n",
    "%%time\n",
    "points = []\n",
    "clusters= 7\n",
    "with open(\"./100k/dataset_3_7.txt\", \"r\") as file:\n",
    "    \n",
    "    for line in file:\n",
    "        comps = line.split(\",\")\n",
    "        point = [float(comps[i]) for i in range (len(comps)) ] \n",
    "        points.append(point)\n",
    "        \n",
    "dataset = np.array(points)\n",
    "kmeans = KMeans(n_clusters=clusters, random_state=0).fit(dataset)\n"
   ]
  },
  {
   "cell_type": "code",
   "execution_count": 3,
   "metadata": {},
   "outputs": [],
   "source": [
    "with open('./100k/output_3_7.txt', 'w') as f:\n",
    "    f.write(cap.stdout + '\\n')\n",
    "    f.write('centroids: '+ str(kmeans.cluster_centers_))\n",
    "    f.write('\\n')\n",
    "    f.write('n_iter: ' + str(kmeans.n_iter_))\n",
    "    "
   ]
  }
 ],
 "metadata": {
  "kernelspec": {
   "display_name": "Python 3.7.5 64-bit",
   "language": "python",
   "name": "python37564bitc1d57a1296b7464f9f79002004778ace"
  },
  "language_info": {
   "codemirror_mode": {
    "name": "ipython",
    "version": 3
   },
   "file_extension": ".py",
   "mimetype": "text/x-python",
   "name": "python",
   "nbconvert_exporter": "python",
   "pygments_lexer": "ipython3",
   "version": "3.7.5"
  }
 },
 "nbformat": 4,
 "nbformat_minor": 4
}
