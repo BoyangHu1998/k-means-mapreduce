{
 "cells": [
  {
   "cell_type": "code",
   "execution_count": 173,
   "metadata": {},
   "outputs": [],
   "source": [
    "from sklearn.cluster import KMeans\n",
    "import numpy as np\n",
    "import time"
   ]
  },
  {
   "cell_type": "code",
   "execution_count": 174,
   "metadata": {
    "scrolled": true
   },
   "outputs": [],
   "source": [
    "points = []\n",
    "clusters= 7\n",
    "start_time = time.time() * 1000.0\n",
    "with open(\"../datasets/1k/dataset_3_7.txt\", \"r\") as file:\n",
    "    for line in file:\n",
    "        comps = line.split(\",\")\n",
    "        point = [float(comps[i]) for i in range (len(comps)) ] \n",
    "        points.append(point)\n",
    "        \n",
    "dataset = np.array(points)\n",
    "kmeans = KMeans(n_clusters=clusters, init='random', precompute_distances=False, random_state=0).fit(dataset)\n",
    "end_time = time.time() * 1000.0\n"
   ]
  },
  {
   "cell_type": "code",
   "execution_count": 175,
   "metadata": {},
   "outputs": [],
   "source": [
    "with open('../benchmarks/1k/output_3_7.txt', 'a') as f:\n",
    "    f.write(\"execution time: \" + str(round(end_time - start_time, 4)) + \" ms\" + '\\n')\n",
    "    f.write('centroids: \\n' + str(kmeans.cluster_centers_) + '\\n')\n",
    "    f.write('n_iter: ' + str(kmeans.n_iter_) + '\\n')    "
   ]
  }
 ],
 "metadata": {
  "kernelspec": {
   "display_name": "Python 3.8.2 64-bit",
   "language": "python",
   "name": "python38264bit165d96167a304b48a1b40131d4648cb9"
  },
  "language_info": {
   "codemirror_mode": {
    "name": "ipython",
    "version": 3
   },
   "file_extension": ".py",
   "mimetype": "text/x-python",
   "name": "python",
   "nbconvert_exporter": "python",
   "pygments_lexer": "ipython3",
   "version": "3.8.2-final"
  }
 },
 "nbformat": 4,
 "nbformat_minor": 4
}